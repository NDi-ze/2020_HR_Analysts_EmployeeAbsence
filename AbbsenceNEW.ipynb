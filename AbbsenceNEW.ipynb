{
  "cells": [
    {
      "metadata": {
        "trusted": true
      },
      "cell_type": "markdown",
      "source": "Что больше всего влияет на отстутствия сотрудников\n\nЦель - просто научиться кодить в питоне, честно\n\n1) Программа загрузки, предобработки и очистки данных\n2) Корреляционный анализ\n3) Кластерный анализ\n4) Визуализация данных\n5) Выводы\n6) Источники (stack overflow, умные знакомые, курсы на курсере, божья помощь)\n\nКто: Настя Болотина, Наталия Диасамидзе, Екатерина Шленова, Юля Юрчак\n"
    },
    {
      "metadata": {},
      "cell_type": "markdown",
      "source": "Библиотеки"
    },
    {
      "metadata": {
        "trusted": true
      },
      "cell_type": "code",
      "source": "import numpy as np\nimport pandas as pd\nimport matplotlib.pyplot as plt\nimport seaborn as sns\nfrom sklearn.linear_model import LogisticRegression\nimport statsmodels.api as sm\nimport scipy.stats as ss",
      "execution_count": 1,
      "outputs": []
    },
    {
      "metadata": {},
      "cell_type": "markdown",
      "source": "1) Программа загрузки, предобработки и очистки данных"
    },
    {
      "metadata": {
        "trusted": true
      },
      "cell_type": "code",
      "source": "path = \"https://raw.githubusercontent.com/NDi-ze/python-project/master/datasets_660_1258_MFGEmployees4%20(2).csv\"\n\ndf = pd.read_csv(path)\ndf.head() #подключили датасет",
      "execution_count": 2,
      "outputs": [
        {
          "output_type": "execute_result",
          "execution_count": 2,
          "data": {
            "text/html": "<div>\n<style scoped>\n    .dataframe tbody tr th:only-of-type {\n        vertical-align: middle;\n    }\n\n    .dataframe tbody tr th {\n        vertical-align: top;\n    }\n\n    .dataframe thead th {\n        text-align: right;\n    }\n</style>\n<table border=\"1\" class=\"dataframe\">\n  <thead>\n    <tr style=\"text-align: right;\">\n      <th></th>\n      <th>EmployeeNumber</th>\n      <th>Surname</th>\n      <th>GivenName</th>\n      <th>Gender</th>\n      <th>City</th>\n      <th>JobTitle</th>\n      <th>DepartmentName</th>\n      <th>StoreLocation</th>\n      <th>Division</th>\n      <th>Age</th>\n      <th>LengthService</th>\n      <th>AbsentHours</th>\n      <th>BusinessUnit</th>\n    </tr>\n  </thead>\n  <tbody>\n    <tr>\n      <th>0</th>\n      <td>1</td>\n      <td>Gutierrez</td>\n      <td>Molly</td>\n      <td>F</td>\n      <td>Burnaby</td>\n      <td>Baker</td>\n      <td>Bakery</td>\n      <td>Burnaby</td>\n      <td>Stores</td>\n      <td>32.028816</td>\n      <td>6.018478</td>\n      <td>36.577306</td>\n      <td>Stores</td>\n    </tr>\n    <tr>\n      <th>1</th>\n      <td>2</td>\n      <td>Hardwick</td>\n      <td>Stephen</td>\n      <td>M</td>\n      <td>Courtenay</td>\n      <td>Baker</td>\n      <td>Bakery</td>\n      <td>Nanaimo</td>\n      <td>Stores</td>\n      <td>40.320902</td>\n      <td>5.532445</td>\n      <td>30.165072</td>\n      <td>Stores</td>\n    </tr>\n    <tr>\n      <th>2</th>\n      <td>3</td>\n      <td>Delgado</td>\n      <td>Chester</td>\n      <td>M</td>\n      <td>Richmond</td>\n      <td>Baker</td>\n      <td>Bakery</td>\n      <td>Richmond</td>\n      <td>Stores</td>\n      <td>48.822047</td>\n      <td>4.389973</td>\n      <td>83.807798</td>\n      <td>Stores</td>\n    </tr>\n    <tr>\n      <th>3</th>\n      <td>4</td>\n      <td>Simon</td>\n      <td>Irene</td>\n      <td>F</td>\n      <td>Victoria</td>\n      <td>Baker</td>\n      <td>Bakery</td>\n      <td>Victoria</td>\n      <td>Stores</td>\n      <td>44.599357</td>\n      <td>3.081736</td>\n      <td>70.020165</td>\n      <td>Stores</td>\n    </tr>\n    <tr>\n      <th>4</th>\n      <td>5</td>\n      <td>Delvalle</td>\n      <td>Edward</td>\n      <td>M</td>\n      <td>New Westminster</td>\n      <td>Baker</td>\n      <td>Bakery</td>\n      <td>New Westminster</td>\n      <td>Stores</td>\n      <td>35.697876</td>\n      <td>3.619091</td>\n      <td>0.000000</td>\n      <td>Stores</td>\n    </tr>\n  </tbody>\n</table>\n</div>",
            "text/plain": "   EmployeeNumber    Surname GivenName Gender             City JobTitle  \\\n0               1  Gutierrez     Molly      F          Burnaby    Baker   \n1               2   Hardwick   Stephen      M        Courtenay    Baker   \n2               3    Delgado   Chester      M         Richmond    Baker   \n3               4      Simon     Irene      F         Victoria    Baker   \n4               5   Delvalle    Edward      M  New Westminster    Baker   \n\n  DepartmentName    StoreLocation Division        Age  LengthService  \\\n0         Bakery          Burnaby   Stores  32.028816       6.018478   \n1         Bakery          Nanaimo   Stores  40.320902       5.532445   \n2         Bakery         Richmond   Stores  48.822047       4.389973   \n3         Bakery         Victoria   Stores  44.599357       3.081736   \n4         Bakery  New Westminster   Stores  35.697876       3.619091   \n\n   AbsentHours BusinessUnit  \n0    36.577306       Stores  \n1    30.165072       Stores  \n2    83.807798       Stores  \n3    70.020165       Stores  \n4     0.000000       Stores  "
          },
          "metadata": {}
        }
      ]
    },
    {
      "metadata": {},
      "cell_type": "markdown",
      "source": "Для исследования возьмем следующие факторы, которые могут влиять на время абсенса (очень хочется сказать абсента ибо уже не вывожу, хочу напицца чтоб забыцца)\nGender\nCity\nDepartmentName\nDivision\nAge\nLengthService\n\nи есесна оставим EmployeeNumber и AbsentHours, остальные выкидываем:"
    },
    {
      "metadata": {
        "trusted": true
      },
      "cell_type": "code",
      "source": "df = df.drop(['Surname', 'GivenName', 'JobTitle','BusinessUnit', 'StoreLocation'], axis = 1) \ndf.info() #выкинули лишнее",
      "execution_count": 3,
      "outputs": [
        {
          "output_type": "stream",
          "text": "<class 'pandas.core.frame.DataFrame'>\nRangeIndex: 8336 entries, 0 to 8335\nData columns (total 8 columns):\nEmployeeNumber    8336 non-null int64\nGender            8336 non-null object\nCity              8336 non-null object\nDepartmentName    8336 non-null object\nDivision          8336 non-null object\nAge               8336 non-null float64\nLengthService     8336 non-null float64\nAbsentHours       8336 non-null float64\ndtypes: float64(3), int64(1), object(4)\nmemory usage: 521.1+ KB\n",
          "name": "stdout"
        }
      ]
    },
    {
      "metadata": {
        "trusted": true
      },
      "cell_type": "code",
      "source": "df.describe()",
      "execution_count": 4,
      "outputs": [
        {
          "output_type": "execute_result",
          "execution_count": 4,
          "data": {
            "text/html": "<div>\n<style scoped>\n    .dataframe tbody tr th:only-of-type {\n        vertical-align: middle;\n    }\n\n    .dataframe tbody tr th {\n        vertical-align: top;\n    }\n\n    .dataframe thead th {\n        text-align: right;\n    }\n</style>\n<table border=\"1\" class=\"dataframe\">\n  <thead>\n    <tr style=\"text-align: right;\">\n      <th></th>\n      <th>EmployeeNumber</th>\n      <th>Age</th>\n      <th>LengthService</th>\n      <th>AbsentHours</th>\n    </tr>\n  </thead>\n  <tbody>\n    <tr>\n      <th>count</th>\n      <td>8336.000000</td>\n      <td>8336.000000</td>\n      <td>8336.000000</td>\n      <td>8336.000000</td>\n    </tr>\n    <tr>\n      <th>mean</th>\n      <td>4168.500000</td>\n      <td>42.007086</td>\n      <td>4.782910</td>\n      <td>61.283978</td>\n    </tr>\n    <tr>\n      <th>std</th>\n      <td>2406.540255</td>\n      <td>9.939798</td>\n      <td>2.462990</td>\n      <td>49.038365</td>\n    </tr>\n    <tr>\n      <th>min</th>\n      <td>1.000000</td>\n      <td>3.504743</td>\n      <td>0.012098</td>\n      <td>0.000000</td>\n    </tr>\n    <tr>\n      <th>25%</th>\n      <td>2084.750000</td>\n      <td>35.298748</td>\n      <td>3.575892</td>\n      <td>19.127590</td>\n    </tr>\n    <tr>\n      <th>50%</th>\n      <td>4168.500000</td>\n      <td>42.114924</td>\n      <td>4.600248</td>\n      <td>56.005808</td>\n    </tr>\n    <tr>\n      <th>75%</th>\n      <td>6252.250000</td>\n      <td>48.666943</td>\n      <td>5.623922</td>\n      <td>94.284692</td>\n    </tr>\n    <tr>\n      <th>max</th>\n      <td>8336.000000</td>\n      <td>77.938003</td>\n      <td>43.735239</td>\n      <td>272.530123</td>\n    </tr>\n  </tbody>\n</table>\n</div>",
            "text/plain": "       EmployeeNumber          Age  LengthService  AbsentHours\ncount     8336.000000  8336.000000    8336.000000  8336.000000\nmean      4168.500000    42.007086       4.782910    61.283978\nstd       2406.540255     9.939798       2.462990    49.038365\nmin          1.000000     3.504743       0.012098     0.000000\n25%       2084.750000    35.298748       3.575892    19.127590\n50%       4168.500000    42.114924       4.600248    56.005808\n75%       6252.250000    48.666943       5.623922    94.284692\nmax       8336.000000    77.938003      43.735239   272.530123"
          },
          "metadata": {}
        }
      ]
    },
    {
      "metadata": {},
      "cell_type": "markdown",
      "source": "проверка пропущенных значений"
    },
    {
      "metadata": {
        "trusted": true
      },
      "cell_type": "code",
      "source": "df.isnull().values.any()",
      "execution_count": 5,
      "outputs": [
        {
          "output_type": "execute_result",
          "execution_count": 5,
          "data": {
            "text/plain": "False"
          },
          "metadata": {}
        }
      ]
    },
    {
      "metadata": {},
      "cell_type": "markdown",
      "source": "акодируем переменные, которые object (придадим им числовые значения, чтоб считать потом; превратим из обычной шкалы в порядковую кажется)"
    },
    {
      "metadata": {
        "trusted": true
      },
      "cell_type": "code",
      "source": "ffc = ['City', 'Gender', 'DepartmentName', 'Division']\nfor i in ffc:\n    df=pd.concat([df.drop(i, 1), pd.get_dummies(df[i]).mul(1)], axis=1)\ndf.head()\n\n",
      "execution_count": 6,
      "outputs": [
        {
          "output_type": "execute_result",
          "execution_count": 6,
          "data": {
            "text/html": "<div>\n<style scoped>\n    .dataframe tbody tr th:only-of-type {\n        vertical-align: middle;\n    }\n\n    .dataframe tbody tr th {\n        vertical-align: top;\n    }\n\n    .dataframe thead th {\n        text-align: right;\n    }\n</style>\n<table border=\"1\" class=\"dataframe\">\n  <thead>\n    <tr style=\"text-align: right;\">\n      <th></th>\n      <th>EmployeeNumber</th>\n      <th>Age</th>\n      <th>LengthService</th>\n      <th>AbsentHours</th>\n      <th>Abbotsford</th>\n      <th>Agassiz</th>\n      <th>Aiyansh</th>\n      <th>Aldergrove</th>\n      <th>Alexis Creek</th>\n      <th>Alkali Lake</th>\n      <th>...</th>\n      <th>Produce</th>\n      <th>Recruitment</th>\n      <th>Store Management</th>\n      <th>Training</th>\n      <th>Executive</th>\n      <th>FinanceAndAccounting</th>\n      <th>HumanResources</th>\n      <th>InfoTech</th>\n      <th>Legal</th>\n      <th>Stores</th>\n    </tr>\n  </thead>\n  <tbody>\n    <tr>\n      <th>0</th>\n      <td>1</td>\n      <td>32.028816</td>\n      <td>6.018478</td>\n      <td>36.577306</td>\n      <td>0</td>\n      <td>0</td>\n      <td>0</td>\n      <td>0</td>\n      <td>0</td>\n      <td>0</td>\n      <td>...</td>\n      <td>0</td>\n      <td>0</td>\n      <td>0</td>\n      <td>0</td>\n      <td>0</td>\n      <td>0</td>\n      <td>0</td>\n      <td>0</td>\n      <td>0</td>\n      <td>1</td>\n    </tr>\n    <tr>\n      <th>1</th>\n      <td>2</td>\n      <td>40.320902</td>\n      <td>5.532445</td>\n      <td>30.165072</td>\n      <td>0</td>\n      <td>0</td>\n      <td>0</td>\n      <td>0</td>\n      <td>0</td>\n      <td>0</td>\n      <td>...</td>\n      <td>0</td>\n      <td>0</td>\n      <td>0</td>\n      <td>0</td>\n      <td>0</td>\n      <td>0</td>\n      <td>0</td>\n      <td>0</td>\n      <td>0</td>\n      <td>1</td>\n    </tr>\n    <tr>\n      <th>2</th>\n      <td>3</td>\n      <td>48.822047</td>\n      <td>4.389973</td>\n      <td>83.807798</td>\n      <td>0</td>\n      <td>0</td>\n      <td>0</td>\n      <td>0</td>\n      <td>0</td>\n      <td>0</td>\n      <td>...</td>\n      <td>0</td>\n      <td>0</td>\n      <td>0</td>\n      <td>0</td>\n      <td>0</td>\n      <td>0</td>\n      <td>0</td>\n      <td>0</td>\n      <td>0</td>\n      <td>1</td>\n    </tr>\n    <tr>\n      <th>3</th>\n      <td>4</td>\n      <td>44.599357</td>\n      <td>3.081736</td>\n      <td>70.020165</td>\n      <td>0</td>\n      <td>0</td>\n      <td>0</td>\n      <td>0</td>\n      <td>0</td>\n      <td>0</td>\n      <td>...</td>\n      <td>0</td>\n      <td>0</td>\n      <td>0</td>\n      <td>0</td>\n      <td>0</td>\n      <td>0</td>\n      <td>0</td>\n      <td>0</td>\n      <td>0</td>\n      <td>1</td>\n    </tr>\n    <tr>\n      <th>4</th>\n      <td>5</td>\n      <td>35.697876</td>\n      <td>3.619091</td>\n      <td>0.000000</td>\n      <td>0</td>\n      <td>0</td>\n      <td>0</td>\n      <td>0</td>\n      <td>0</td>\n      <td>0</td>\n      <td>...</td>\n      <td>0</td>\n      <td>0</td>\n      <td>0</td>\n      <td>0</td>\n      <td>0</td>\n      <td>0</td>\n      <td>0</td>\n      <td>0</td>\n      <td>0</td>\n      <td>1</td>\n    </tr>\n  </tbody>\n</table>\n<p>5 rows × 276 columns</p>\n</div>",
            "text/plain": "   EmployeeNumber        Age  LengthService  AbsentHours  Abbotsford  Agassiz  \\\n0               1  32.028816       6.018478    36.577306           0        0   \n1               2  40.320902       5.532445    30.165072           0        0   \n2               3  48.822047       4.389973    83.807798           0        0   \n3               4  44.599357       3.081736    70.020165           0        0   \n4               5  35.697876       3.619091     0.000000           0        0   \n\n   Aiyansh  Aldergrove  Alexis Creek  Alkali Lake   ...    Produce  \\\n0        0           0             0            0   ...          0   \n1        0           0             0            0   ...          0   \n2        0           0             0            0   ...          0   \n3        0           0             0            0   ...          0   \n4        0           0             0            0   ...          0   \n\n   Recruitment  Store Management  Training  Executive  FinanceAndAccounting  \\\n0            0                 0         0          0                     0   \n1            0                 0         0          0                     0   \n2            0                 0         0          0                     0   \n3            0                 0         0          0                     0   \n4            0                 0         0          0                     0   \n\n   HumanResources  InfoTech  Legal  Stores  \n0               0         0      0       1  \n1               0         0      0       1  \n2               0         0      0       1  \n3               0         0      0       1  \n4               0         0      0       1  \n\n[5 rows x 276 columns]"
          },
          "metadata": {}
        }
      ]
    },
    {
      "metadata": {
        "trusted": true
      },
      "cell_type": "code",
      "source": "df.info()\n",
      "execution_count": 7,
      "outputs": [
        {
          "output_type": "stream",
          "text": "<class 'pandas.core.frame.DataFrame'>\nRangeIndex: 8336 entries, 0 to 8335\nColumns: 276 entries, EmployeeNumber to Stores\ndtypes: float64(3), int64(1), uint8(272)\nmemory usage: 2.4 MB\n",
          "name": "stdout"
        }
      ]
    },
    {
      "metadata": {
        "trusted": true
      },
      "cell_type": "code",
      "source": "df.columns.tolist()",
      "execution_count": 11,
      "outputs": [
        {
          "output_type": "execute_result",
          "execution_count": 11,
          "data": {
            "text/plain": "['EmployeeNumber',\n 'Age',\n 'LengthService',\n 'AbsentHours',\n 'Abbotsford',\n 'Agassiz',\n 'Aiyansh',\n 'Aldergrove',\n 'Alexis Creek',\n 'Alkali Lake',\n 'Armstrong',\n 'Ashcroft',\n 'Atlin',\n 'Avola',\n 'Balfour',\n 'Bamfield',\n 'Barriere',\n 'Bear Lake',\n 'Beaver Valley',\n 'Bella Bella',\n 'Black Point',\n 'Black Pool',\n 'Blue River',\n 'Blueberry',\n 'Bob Quinn Lake',\n 'Boston Bar',\n 'Bouchie Lake',\n 'Bougie Creek',\n 'Bowen Island',\n 'Brackendale',\n 'Bridge Lake',\n 'Britannia Beach',\n 'Burnaby',\n 'Burns Lake',\n 'Cache Creek',\n 'Campbell River',\n 'Canal Flats',\n 'Cassiar',\n 'Castlegar',\n 'Celista',\n 'Chase',\n 'Chemainus',\n 'Chetwynd',\n 'Chief Lake',\n 'Chilako River',\n 'Chilanko Forks',\n 'Chilliwack',\n 'Christina Lake',\n 'Clearwater',\n 'Clinton',\n 'Cluculz Lake',\n 'Cobble Hill',\n 'Comox',\n 'Coquitlam',\n 'Cortes Island',\n 'Courtenay',\n 'Cranbrook',\n 'Crawford Bay',\n 'Creston',\n 'Cumberland',\n \"D'arcy\",\n 'Dawson Creek',\n 'Dease Lake',\n 'Decker Lake',\n 'Douglas Lake',\n 'Dragon Lake',\n 'Duncan',\n 'Elkford',\n 'Elko',\n 'Enderby',\n 'Fairmont Hot Springs',\n 'Fauquier',\n 'Fernie',\n 'Field',\n 'Flatrock',\n 'Forest Grove',\n 'Fort Fraser',\n 'Fort Langley',\n 'Fort Nelson',\n 'Fort St James',\n 'Fort St John',\n 'Francois Lake',\n 'Fraser Lake',\n 'Fruitvale',\n 'Fulford Harbour',\n 'Gabriola Island',\n 'Ganges',\n 'Genelle',\n 'Gibsons',\n 'Giscome',\n 'Gold Bridge',\n 'Golden',\n 'Good Hope Lake',\n 'Grand Forks',\n 'Granisle',\n 'Grasmere',\n 'Grassy Plains',\n 'Greenwood',\n 'Haney',\n 'Hansard',\n 'Hazelton',\n 'Hedley',\n 'Hemlock Valley',\n 'Hixon',\n 'Hope',\n 'Horsefly',\n 'Houston',\n 'Huntingdon',\n 'Invermere',\n 'Iskut',\n 'Jaffray',\n 'Kamloops',\n 'Kaslo',\n 'Kelowna',\n 'Keremeos',\n 'Kimberley',\n 'Kitimat',\n 'Kitwanga',\n 'Klemtu',\n 'Lac La Hache',\n 'Ladysmith',\n 'Lake Cowichan',\n 'Lakelse Lake',\n 'Lakeview Heights',\n 'Langley',\n 'Likely',\n 'Lillooet',\n 'Little Fort',\n 'Logan Lake',\n 'Lower Post',\n 'Lumby',\n 'Lytton',\n 'Mackenzie',\n 'Manning Park',\n 'Mayne Island',\n 'Mcbride',\n 'Mcleese Lake',\n 'Merritt',\n 'Mica Creek',\n 'Midway',\n 'Mission',\n 'Montney',\n 'Muncho Lake',\n 'Nakusp',\n 'Nanaimo',\n 'Nelson',\n 'New Westminister',\n 'New Westminster',\n 'Nimpo Lake',\n 'North Pender Island',\n 'North Vancouver',\n 'Ocean Falls',\n 'Okanagan Falls',\n 'Okanagan Mission',\n 'Oliver',\n 'Osoyoos',\n 'Oyama',\n 'Oyster River',\n 'Parksville',\n 'Parson',\n 'Peachland',\n 'Pemberton',\n 'Pender Harbour',\n 'Penticton',\n 'Pitt Meadows',\n 'Port Alberni',\n 'Port Alice',\n 'Port Coquitlam',\n 'Port Edward',\n 'Port Hardy',\n 'Port Mcneill',\n 'Port Mellon',\n 'Port Renfrew',\n 'Pouce Coupe',\n 'Powell River',\n 'Prince George',\n 'Princeton',\n 'Pritchard',\n 'Quadra Island',\n 'Qualicum Beach',\n 'Quesnel',\n 'Radium Hot Springs',\n 'Revelstoke',\n 'Richmond',\n 'Riske Creek',\n 'Rock Creek',\n 'Rosedale',\n 'Rossland',\n 'Rutland',\n 'Salmo',\n 'Salmon Arm',\n 'Salmon Valley',\n 'Sandspit',\n 'Sardis',\n 'Sayward',\n 'Sechelt',\n 'Seton Portage',\n 'Sicamous',\n 'Sidney',\n 'Skookumchuck',\n 'Slocan',\n 'Smithers',\n 'Sooke',\n 'Sorrento',\n 'South Slocan',\n 'Sparwood',\n 'Spences Bridge',\n 'Spillimacheen',\n 'Squamish',\n 'Summerland',\n 'Surrey',\n 'Tappen',\n 'Tatla Lake',\n 'Taylor',\n 'Telegraph Creek',\n 'Terrace',\n 'Toad River',\n 'Tofino',\n 'Topley',\n 'Trail',\n 'Tumbler Ridge',\n 'Ucluelet',\n 'Union Bay',\n 'Valemount',\n 'Vallican',\n 'Vananda',\n 'Vancouver',\n 'Vanderhoof',\n 'Vavenby',\n 'Vernon',\n 'Victoria',\n 'Wells',\n 'West Vancouver',\n 'Westbank',\n 'Westwold',\n 'Whistler',\n 'White Rock',\n 'Wildwood',\n 'Williams Lake',\n 'Willow Point',\n 'Winfield',\n 'Woss',\n 'Wynndel',\n 'Yahk',\n 'Yale',\n 'Yarrow',\n 'Youbou',\n 'F',\n 'M',\n 'Accounting',\n 'Accounts Payable',\n 'Accounts Receiveable',\n 'Audit',\n 'Bakery',\n 'Compensation',\n 'Customer Service',\n 'Dairy',\n 'Employee Records',\n 'Executive',\n 'HR Technology',\n 'Information Technology',\n 'Investment',\n 'Labor Relations',\n 'Legal',\n 'Meats',\n 'Processed Foods',\n 'Produce',\n 'Recruitment',\n 'Store Management',\n 'Training',\n 'Executive',\n 'FinanceAndAccounting',\n 'HumanResources',\n 'InfoTech',\n 'Legal',\n 'Stores']"
          },
          "metadata": {}
        }
      ]
    },
    {
      "metadata": {},
      "cell_type": "markdown",
      "source": "тут должны быть гипотезы но я хз че писать (но поробую)\n1. на асбсенс влияет пол и возраст\n2. влияение локации, департамента, дивизиона и города незначительно"
    },
    {
      "metadata": {
        "trusted": true
      },
      "cell_type": "markdown",
      "source": "корреляции"
    },
    {
      "metadata": {},
      "cell_type": "markdown",
      "source": "коэф Кендалла (значения от -1 до 1)"
    },
    {
      "metadata": {
        "trusted": true
      },
      "cell_type": "code",
      "source": "x = df['AbsentHours']\ny = df['Age']\nx.corr(y, method = \"kendall\") ",
      "execution_count": 8,
      "outputs": [
        {
          "output_type": "execute_result",
          "execution_count": 8,
          "data": {
            "text/plain": "0.6584462807667683"
          },
          "metadata": {}
        }
      ]
    },
    {
      "metadata": {
        "trusted": true
      },
      "cell_type": "code",
      "source": "ss.kendalltau(x, y)",
      "execution_count": 9,
      "outputs": [
        {
          "output_type": "execute_result",
          "execution_count": 9,
          "data": {
            "text/plain": "KendalltauResult(correlation=0.6584462807667683, pvalue=0.0)"
          },
          "metadata": {}
        }
      ]
    },
    {
      "metadata": {},
      "cell_type": "markdown",
      "source": "вывод: корреляция между абсенсом и возрастом есть, p < 0,5"
    },
    {
      "metadata": {
        "trusted": true
      },
      "cell_type": "code",
      "source": "x = df['AbsentHours']\ny = df['F']\nx.corr(y, method = \"kendall\") \n",
      "execution_count": 16,
      "outputs": [
        {
          "output_type": "execute_result",
          "execution_count": 16,
          "data": {
            "text/plain": "0.0769100280055496"
          },
          "metadata": {}
        }
      ]
    },
    {
      "metadata": {
        "trusted": true
      },
      "cell_type": "code",
      "source": "ss.kendalltau(x, y)",
      "execution_count": 14,
      "outputs": [
        {
          "output_type": "execute_result",
          "execution_count": 14,
          "data": {
            "text/plain": "KendalltauResult(correlation=0.0769100280055496, pvalue=1.775266544307561e-17)"
          },
          "metadata": {}
        }
      ]
    },
    {
      "metadata": {},
      "cell_type": "markdown",
      "source": ""
    }
  ],
  "metadata": {
    "kernelspec": {
      "name": "python36",
      "display_name": "Python 3.6",
      "language": "python"
    },
    "language_info": {
      "mimetype": "text/x-python",
      "nbconvert_exporter": "python",
      "name": "python",
      "pygments_lexer": "ipython3",
      "version": "3.6.6",
      "file_extension": ".py",
      "codemirror_mode": {
        "version": 3,
        "name": "ipython"
      }
    }
  },
  "nbformat": 4,
  "nbformat_minor": 2
}